{
 "cells": [
  {
   "cell_type": "code",
   "execution_count": 1,
   "id": "b35b4b7b",
   "metadata": {},
   "outputs": [],
   "source": [
    "# finding the sum of numbers in a list using while loop"
   ]
  },
  {
   "cell_type": "code",
   "execution_count": 2,
   "id": "69745500",
   "metadata": {},
   "outputs": [],
   "source": [
    "# printing the square of numbers using while loop"
   ]
  },
  {
   "cell_type": "code",
   "execution_count": 3,
   "id": "cd0d0d75",
   "metadata": {},
   "outputs": [
    {
     "name": "stdout",
     "output_type": "stream",
     "text": [
      "The sum of elements in the given list is: 19\n"
     ]
    }
   ],
   "source": [
    "import operator\n",
    "lst = [0, 4, 1, 6, 8]\n",
    "sum = 0\n",
    "i = 0\n",
    "while i < len(lst):\n",
    "    sum = sum+operator.add(0, lst[i])\n",
    "    i = i+1\n",
    "print('The sum of elements in the given list is:', sum)"
   ]
  },
  {
   "cell_type": "code",
   "execution_count": 4,
   "id": "21387009",
   "metadata": {},
   "outputs": [
    {
     "name": "stdout",
     "output_type": "stream",
     "text": [
      "Enter the nth number in the series:15\n",
      "The squares of the first 15 numbers is:\n",
      "1 * 1 = 1\n",
      "2 * 2 = 4\n",
      "3 * 3 = 9\n",
      "4 * 4 = 16\n",
      "5 * 5 = 25\n",
      "6 * 6 = 36\n",
      "7 * 7 = 49\n",
      "8 * 8 = 64\n",
      "9 * 9 = 81\n",
      "10 * 10 = 100\n",
      "11 * 11 = 121\n",
      "12 * 12 = 144\n",
      "13 * 13 = 169\n",
      "14 * 14 = 196\n",
      "15 * 15 = 225\n"
     ]
    }
   ],
   "source": [
    "n = int(input(\"Enter the nth number in the series:\"))\n",
    "\n",
    "i = 1\n",
    "\n",
    "print(\"The squares of the first\" , n , \"numbers is:\")\n",
    "\n",
    "while(i <= n):\n",
    "\n",
    "   print(i , \"*\" , i , \"=\", (i*i))\n",
    "\n",
    "   i += 1"
   ]
  },
  {
   "cell_type": "code",
   "execution_count": 5,
   "id": "41be1ee0",
   "metadata": {},
   "outputs": [
    {
     "data": {
      "text/plain": [
       "8"
      ]
     },
     "execution_count": 5,
     "metadata": {},
     "output_type": "execute_result"
    }
   ],
   "source": [
    "3+5"
   ]
  },
  {
   "cell_type": "code",
   "execution_count": 10,
   "id": "c367470c",
   "metadata": {},
   "outputs": [],
   "source": [
    "def reverse_string_2(input_string):\n",
    "    chars=list(input_string)\n",
    "    start=0\n",
    "    end=len(chars)-1\n",
    "    while start<end:\n",
    "        chars[start],chars[end]=chars[end],chars[start]\n",
    "        start+=1\n",
    "        end-=1\n",
    "    reversed_string=''.join(chars)\n",
    "    return reversed_string"
   ]
  },
  {
   "cell_type": "code",
   "execution_count": 11,
   "id": "4cf8c9b2",
   "metadata": {},
   "outputs": [],
   "source": [
    "string=\"Hello,World!\""
   ]
  },
  {
   "cell_type": "code",
   "execution_count": 12,
   "id": "3f91d1d5",
   "metadata": {},
   "outputs": [],
   "source": [
    "reversed_string=reverse_string_2(string)"
   ]
  },
  {
   "cell_type": "code",
   "execution_count": 13,
   "id": "f3155e2b",
   "metadata": {},
   "outputs": [
    {
     "name": "stdout",
     "output_type": "stream",
     "text": [
      "!dlroW,olleH\n"
     ]
    }
   ],
   "source": [
    "print(reversed_string)"
   ]
  },
  {
   "cell_type": "code",
   "execution_count": 22,
   "id": "c4ac23fa",
   "metadata": {},
   "outputs": [],
   "source": [
    "def is_palindrome_2(input_string):\n",
    "    start=0\n",
    "    end=len(input_string)-1\n",
    "    while start<end:\n",
    "        if input_string[start]!=input_string[end]:\n",
    "            return False\n",
    "        start+=1\n",
    "        end-=1\n",
    "        return True"
   ]
  },
  {
   "cell_type": "code",
   "execution_count": 23,
   "id": "25a71a9d",
   "metadata": {},
   "outputs": [],
   "source": [
    "string=\"Able was I saw Elba\""
   ]
  },
  {
   "cell_type": "code",
   "execution_count": 25,
   "id": "258937e7",
   "metadata": {},
   "outputs": [
    {
     "name": "stdout",
     "output_type": "stream",
     "text": [
      "Able was I saw Elba is a palindrome.\n"
     ]
    }
   ],
   "source": [
    "if is_palindrome_2(string.lower()):\n",
    "    print(f\"{string} is a palindrome.\")\n",
    "else:\n",
    "    print(f\"{string} is not a palindrome.\")"
   ]
  },
  {
   "cell_type": "code",
   "execution_count": 28,
   "id": "8a01a13f",
   "metadata": {},
   "outputs": [],
   "source": [
    "def find_largest_element(lst):\n",
    "    if not lst:\n",
    "        return None\n",
    "    largest=lst[0]\n",
    "    for element in lst:\n",
    "        if element>largest:\n",
    "            largest=element\n",
    "    return largest"
   ]
  },
  {
   "cell_type": "code",
   "execution_count": 29,
   "id": "2f873352",
   "metadata": {},
   "outputs": [],
   "source": [
    "numbers=[10,5,7,20,15]"
   ]
  },
  {
   "cell_type": "code",
   "execution_count": 30,
   "id": "9d55cfee",
   "metadata": {},
   "outputs": [
    {
     "name": "stdout",
     "output_type": "stream",
     "text": [
      "The largest number is: 20\n"
     ]
    }
   ],
   "source": [
    "largest_number=find_largest_element(numbers)\n",
    "print(f\"The largest number is: {largest_number}\")"
   ]
  },
  {
   "cell_type": "code",
   "execution_count": 31,
   "id": "efdd929f",
   "metadata": {},
   "outputs": [],
   "source": [
    "def count_occurences(lst):\n",
    "    occurences={}\n",
    "    for element in lst:\n",
    "        if element in occurences:\n",
    "            occurences[element]+=1\n",
    "        else:\n",
    "            occurences[element]=1\n",
    "    return occurences"
   ]
  },
  {
   "cell_type": "code",
   "execution_count": 32,
   "id": "903b15f4",
   "metadata": {},
   "outputs": [],
   "source": [
    "numbers=[1,2,3,2,1,3,4,5,1]"
   ]
  },
  {
   "cell_type": "code",
   "execution_count": 33,
   "id": "0fe0b52c",
   "metadata": {},
   "outputs": [
    {
     "name": "stdout",
     "output_type": "stream",
     "text": [
      "1 occurs 3 time(s)\n",
      "2 occurs 2 time(s)\n",
      "3 occurs 2 time(s)\n",
      "4 occurs 1 time(s)\n",
      "5 occurs 1 time(s)\n"
     ]
    }
   ],
   "source": [
    "occurences=count_occurences(numbers)\n",
    "for element,count in occurences.items():\n",
    "    print(f\"{element} occurs {count} time(s)\")"
   ]
  },
  {
   "cell_type": "code",
   "execution_count": 34,
   "id": "2baac8bb",
   "metadata": {},
   "outputs": [],
   "source": [
    "def find_second_largest_2(numbers):\n",
    "    if len(numbers)<2:\n",
    "        return None\n",
    "    numbers_set=set(numbers)\n",
    "    numbers_set.remove(max(numbers_set))\n",
    "    if len(numbers_set)==0:\n",
    "        return None\n",
    "    return max(numbers_set)"
   ]
  },
  {
   "cell_type": "code",
   "execution_count": 35,
   "id": "0a8ed51b",
   "metadata": {},
   "outputs": [
    {
     "name": "stdout",
     "output_type": "stream",
     "text": [
      "The second largest number is: 15\n"
     ]
    }
   ],
   "source": [
    "numbers=[10,5,7,20,15]\n",
    "second_largest=find_second_largest_2(numbers)\n",
    "if second_largest is None:\n",
    "    print(\"There is no second largest number.\")\n",
    "else:\n",
    "    print(f\"The second largest number is: {second_largest}\")"
   ]
  },
  {
   "cell_type": "code",
   "execution_count": 36,
   "id": "2ccae2f2",
   "metadata": {},
   "outputs": [],
   "source": [
    "def remove_duplicates_2(lst):\n",
    "    unique_list=[]\n",
    "    for element in lst:\n",
    "        if element not in unique_list:\n",
    "            unique_list.append(element)\n",
    "    return unique_list"
   ]
  },
  {
   "cell_type": "code",
   "execution_count": 37,
   "id": "83d57496",
   "metadata": {},
   "outputs": [],
   "source": [
    "numbers=[1,2,3,2,1,3,4,5,1]"
   ]
  },
  {
   "cell_type": "code",
   "execution_count": 38,
   "id": "40de01a8",
   "metadata": {},
   "outputs": [
    {
     "name": "stdout",
     "output_type": "stream",
     "text": [
      "The list with duplicates removed: [1, 2, 3, 4, 5]\n"
     ]
    }
   ],
   "source": [
    "unique_numbers=remove_duplicates_2(numbers)\n",
    "print(f\"The list with duplicates removed: {unique_numbers}\")"
   ]
  },
  {
   "cell_type": "code",
   "execution_count": 39,
   "id": "633e584c",
   "metadata": {},
   "outputs": [],
   "source": [
    "def factorial(n):\n",
    "    if n<0:\n",
    "        return None\n",
    "    result=1\n",
    "    for i in range(1,n+1):\n",
    "        result*=i\n",
    "    return result"
   ]
  },
  {
   "cell_type": "code",
   "execution_count": 40,
   "id": "42f0db5b",
   "metadata": {},
   "outputs": [],
   "source": [
    "number=5"
   ]
  },
  {
   "cell_type": "code",
   "execution_count": 41,
   "id": "50e302eb",
   "metadata": {},
   "outputs": [
    {
     "name": "stdout",
     "output_type": "stream",
     "text": [
      "The factorial of 5 is: 120\n"
     ]
    }
   ],
   "source": [
    "factorial_result=factorial(number)\n",
    "if factorial_result is None:\n",
    "    print(\"Factorial is undefined for negative numbers.\")\n",
    "else:\n",
    "    print(f\"The factorial of {number} is: {factorial_result}\")"
   ]
  },
  {
   "cell_type": "code",
   "execution_count": 42,
   "id": "b38571e6",
   "metadata": {},
   "outputs": [],
   "source": [
    "def factorial_rec(n):\n",
    "    if n<0:\n",
    "        return None\n",
    "    elif n==0:\n",
    "        return 1\n",
    "    else:\n",
    "        return n*factorial(n-1)"
   ]
  },
  {
   "cell_type": "code",
   "execution_count": 43,
   "id": "4e3e3d18",
   "metadata": {},
   "outputs": [
    {
     "name": "stdout",
     "output_type": "stream",
     "text": [
      "The factorial of 5 is: 120\n"
     ]
    }
   ],
   "source": [
    "number=5\n",
    "factorial_result=factorial_rec(number)\n",
    "if factorial_result is None:\n",
    "    print(\"Factorial is undefined for negative numbers.\")\n",
    "else:\n",
    "    print(f\"The factorial of {number} is: {factorial_result}\")"
   ]
  },
  {
   "cell_type": "code",
   "execution_count": 45,
   "id": "e9428eab",
   "metadata": {},
   "outputs": [
    {
     "name": "stdout",
     "output_type": "stream",
     "text": [
      "Factorial is undefined for negative numbers.\n"
     ]
    }
   ],
   "source": [
    "number=-9\n",
    "factorial_result=factorial_rec(number)\n",
    "if factorial_result is None:\n",
    "    print(\"Factorial is undefined for negative numbers.\")\n",
    "else:\n",
    "    print(f\"The factorial of {number} is: {factorial_result}\")"
   ]
  },
  {
   "cell_type": "code",
   "execution_count": 46,
   "id": "13d52f26",
   "metadata": {},
   "outputs": [],
   "source": [
    "def is_prime_ap(number):\n",
    "    if number<=1:\n",
    "        return False\n",
    "    if number==2:\n",
    "        return True\n",
    "    if number%2==0:\n",
    "        return False\n",
    "    divisor=3\n",
    "    while divisor*divisor<=number:\n",
    "        if number%divisor==0:\n",
    "            return False\n",
    "        divisor+=2\n",
    "    return True"
   ]
  },
  {
   "cell_type": "code",
   "execution_count": 47,
   "id": "3f6ac4c5",
   "metadata": {},
   "outputs": [],
   "source": [
    "num=17"
   ]
  },
  {
   "cell_type": "code",
   "execution_count": 48,
   "id": "a4b63e2d",
   "metadata": {},
   "outputs": [
    {
     "name": "stdout",
     "output_type": "stream",
     "text": [
      "17 is a prime number.\n"
     ]
    }
   ],
   "source": [
    "if is_prime_ap(num):\n",
    "    print(f\"{num} is a prime number.\")\n",
    "else:\n",
    "    print(f\"{num} is not a prime number.\")"
   ]
  },
  {
   "cell_type": "code",
   "execution_count": 49,
   "id": "556bfc29",
   "metadata": {},
   "outputs": [],
   "source": [
    "def sort_list(numbers):\n",
    "    sorted_numbers=numbers.copy()\n",
    "    sorted_numbers.sort()\n",
    "    return sorted_numbers"
   ]
  },
  {
   "cell_type": "code",
   "execution_count": 50,
   "id": "5c1f05f9",
   "metadata": {},
   "outputs": [
    {
     "name": "stdout",
     "output_type": "stream",
     "text": [
      "Thesorted list: [1, 2, 3, 5, 8]\n"
     ]
    }
   ],
   "source": [
    "numbers=[5,2,8,1,3]\n",
    "sorted_numbers=sort_list(numbers)\n",
    "print(f\"Thesorted list: {sorted_numbers}\")"
   ]
  },
  {
   "cell_type": "code",
   "execution_count": 51,
   "id": "4e8c54ce",
   "metadata": {},
   "outputs": [],
   "source": [
    "def sum_of_list(numbers):\n",
    "    total=0\n",
    "    for num in numbers:\n",
    "        total+=num\n",
    "    return total"
   ]
  },
  {
   "cell_type": "code",
   "execution_count": 52,
   "id": "c92a7659",
   "metadata": {},
   "outputs": [],
   "source": [
    "numbers=[1,2,3,4,5]"
   ]
  },
  {
   "cell_type": "code",
   "execution_count": 53,
   "id": "d76f4e41",
   "metadata": {},
   "outputs": [
    {
     "name": "stdout",
     "output_type": "stream",
     "text": [
      "The sum of the numbers in the list is: 15\n"
     ]
    }
   ],
   "source": [
    "sum_of_numbers=sum_of_list(numbers)\n",
    "print(f\"The sum of the numbers in the list is: {sum_of_numbers}\")"
   ]
  },
  {
   "cell_type": "code",
   "execution_count": 54,
   "id": "4f78df44",
   "metadata": {},
   "outputs": [],
   "source": [
    "def find_common_elements(list1,list2):\n",
    "    common_elements=[]\n",
    "    for element in list1:\n",
    "        if element in list2 and element not in common_elements:\n",
    "            common_elements.append(element)\n",
    "    return common_elements"
   ]
  },
  {
   "cell_type": "code",
   "execution_count": 55,
   "id": "210c007d",
   "metadata": {},
   "outputs": [],
   "source": [
    "list1=[1,2,3,4,5]\n",
    "list2=[4,5,6,7,8]"
   ]
  },
  {
   "cell_type": "code",
   "execution_count": 56,
   "id": "b9388787",
   "metadata": {},
   "outputs": [
    {
     "name": "stdout",
     "output_type": "stream",
     "text": [
      "The common elements between the list are:[4, 5]\n"
     ]
    }
   ],
   "source": [
    "common_elements=find_common_elements(list1,list2)\n",
    "print(f\"The common elements between the list are:{common_elements}\")"
   ]
  },
  {
   "cell_type": "code",
   "execution_count": 57,
   "id": "77ea5624",
   "metadata": {},
   "outputs": [],
   "source": [
    "def find_median(numbers):\n",
    "    sorted_numbes=sorted(numbers)\n",
    "    n=len(sorted_numbers)\n",
    "    mid_index=n//2\n",
    "    if n%2==0:\n",
    "        median=(sorted_numbers[mid_index-1]+sorted_numbers[mid_index])/2\n",
    "    else:\n",
    "        median=sorted_numbers[mid_index]\n",
    "    return median"
   ]
  },
  {
   "cell_type": "code",
   "execution_count": 58,
   "id": "703dfb1d",
   "metadata": {},
   "outputs": [
    {
     "name": "stdout",
     "output_type": "stream",
     "text": [
      "The median of the list is: 3\n"
     ]
    }
   ],
   "source": [
    "number_list=[3,1,5,4,2]\n",
    "median=find_median(number_list)\n",
    "print(f\"The median of the list is: {median}\")"
   ]
  },
  {
   "cell_type": "code",
   "execution_count": 59,
   "id": "bc097663",
   "metadata": {},
   "outputs": [],
   "source": [
    "def is_sorted(numbers):\n",
    "    n=len(numbers)\n",
    "    for i in range(1,n):\n",
    "        if numbers[i]<numbers[i-1]:\n",
    "            return False\n",
    "    return True"
   ]
  },
  {
   "cell_type": "code",
   "execution_count": 60,
   "id": "d0ba3d5d",
   "metadata": {},
   "outputs": [
    {
     "name": "stdout",
     "output_type": "stream",
     "text": [
      "True\n",
      "False\n"
     ]
    }
   ],
   "source": [
    "number_list=[1,2,3,4,5]\n",
    "print(is_sorted(number_list))\n",
    "number_list=[1,3,2,4,5]\n",
    "print(is_sorted(number_list))"
   ]
  },
  {
   "cell_type": "code",
   "execution_count": null,
   "id": "4e7bc171",
   "metadata": {},
   "outputs": [],
   "source": []
  }
 ],
 "metadata": {
  "kernelspec": {
   "display_name": "Python 3 (ipykernel)",
   "language": "python",
   "name": "python3"
  },
  "language_info": {
   "codemirror_mode": {
    "name": "ipython",
    "version": 3
   },
   "file_extension": ".py",
   "mimetype": "text/x-python",
   "name": "python",
   "nbconvert_exporter": "python",
   "pygments_lexer": "ipython3",
   "version": "3.11.5"
  }
 },
 "nbformat": 4,
 "nbformat_minor": 5
}
